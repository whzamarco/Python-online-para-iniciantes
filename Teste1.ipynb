{
 "cells": [
  {
   "cell_type": "code",
   "execution_count": 1,
   "metadata": {},
   "outputs": [
    {
     "name": "stdout",
     "output_type": "stream",
     "text": [
      "Wilson\n"
     ]
    }
   ],
   "source": [
    "print('Wilson')"
   ]
  },
  {
   "cell_type": "code",
   "execution_count": 2,
   "metadata": {},
   "outputs": [
    {
     "data": {
      "text/plain": [
       "1"
      ]
     },
     "execution_count": 2,
     "metadata": {},
     "output_type": "execute_result"
    }
   ],
   "source": [
    "5%2"
   ]
  },
  {
   "cell_type": "code",
   "execution_count": 3,
   "metadata": {},
   "outputs": [
    {
     "data": {
      "text/plain": [
       "2"
      ]
     },
     "execution_count": 3,
     "metadata": {},
     "output_type": "execute_result"
    }
   ],
   "source": [
    "5//2"
   ]
  },
  {
   "cell_type": "code",
   "execution_count": 4,
   "metadata": {},
   "outputs": [
    {
     "data": {
      "text/plain": [
       "2.5"
      ]
     },
     "execution_count": 4,
     "metadata": {},
     "output_type": "execute_result"
    }
   ],
   "source": [
    "5/2"
   ]
  },
  {
   "cell_type": "code",
   "execution_count": 8,
   "metadata": {},
   "outputs": [
    {
     "data": {
      "text/plain": [
       "int"
      ]
     },
     "execution_count": 8,
     "metadata": {},
     "output_type": "execute_result"
    }
   ],
   "source": [
    "var1 = 1\n",
    "var2 = 2,5\n",
    "var3 = \"texto\"\n",
    "\n",
    "type(var1)"
   ]
  },
  {
   "cell_type": "code",
   "execution_count": 7,
   "metadata": {},
   "outputs": [
    {
     "data": {
      "text/plain": [
       "tuple"
      ]
     },
     "execution_count": 7,
     "metadata": {},
     "output_type": "execute_result"
    }
   ],
   "source": [
    "type(var2)"
   ]
  },
  {
   "cell_type": "code",
   "execution_count": 9,
   "metadata": {},
   "outputs": [
    {
     "data": {
      "text/plain": [
       "str"
      ]
     },
     "execution_count": 9,
     "metadata": {},
     "output_type": "execute_result"
    }
   ],
   "source": [
    "type(var3)"
   ]
  },
  {
   "cell_type": "code",
   "execution_count": 10,
   "metadata": {},
   "outputs": [
    {
     "name": "stdout",
     "output_type": "stream",
     "text": [
      "Qual seu nome?Wilson\n"
     ]
    }
   ],
   "source": [
    "nome = input(\"Qual seu nome?\")"
   ]
  },
  {
   "cell_type": "code",
   "execution_count": 11,
   "metadata": {},
   "outputs": [
    {
     "name": "stdout",
     "output_type": "stream",
     "text": [
      "Wilson\n"
     ]
    }
   ],
   "source": [
    "print(nome)"
   ]
  },
  {
   "cell_type": "code",
   "execution_count": 12,
   "metadata": {},
   "outputs": [
    {
     "name": "stdout",
     "output_type": "stream",
     "text": [
      "Qual sua idade?32\n"
     ]
    }
   ],
   "source": [
    "idade = int(input(\"Qual sua idade?\"))"
   ]
  },
  {
   "cell_type": "code",
   "execution_count": 13,
   "metadata": {},
   "outputs": [
    {
     "name": "stdout",
     "output_type": "stream",
     "text": [
      "32\n"
     ]
    }
   ],
   "source": [
    "print(idade)"
   ]
  },
  {
   "cell_type": "code",
   "execution_count": 15,
   "metadata": {},
   "outputs": [
    {
     "name": "stdout",
     "output_type": "stream",
     "text": [
      "Suco de uva é o melhor\n"
     ]
    }
   ],
   "source": [
    "fruta = \"uva\"\n",
    "print(\"Suco de %s é o melhor\" %fruta)"
   ]
  },
  {
   "cell_type": "code",
   "execution_count": 16,
   "metadata": {},
   "outputs": [
    {
     "name": "stdout",
     "output_type": "stream",
     "text": [
      "Wilson tem 32 anos\n"
     ]
    }
   ],
   "source": [
    "print(\"Wilson tem %d anos\" %idade)"
   ]
  },
  {
   "cell_type": "code",
   "execution_count": 17,
   "metadata": {},
   "outputs": [
    {
     "name": "stdout",
     "output_type": "stream",
     "text": [
      "Suco de uva é o melhor\n"
     ]
    }
   ],
   "source": [
    "print(\"Suco de {} é o melhor\" .format(fruta))"
   ]
  },
  {
   "cell_type": "code",
   "execution_count": 18,
   "metadata": {},
   "outputs": [
    {
     "name": "stdout",
     "output_type": "stream",
     "text": [
      "O céu é azul, a flor é vermelhor e meu carro é azul\n"
     ]
    }
   ],
   "source": [
    "cor1 = \"azul\"\n",
    "cor2 = \"vermelhor\"\n",
    "print(\"O céu é {0}, a flor é {1} e meu carro é {0}\" .format(cor1, cor2))"
   ]
  },
  {
   "cell_type": "code",
   "execution_count": 19,
   "metadata": {},
   "outputs": [
    {
     "name": "stdout",
     "output_type": "stream",
     "text": [
      "5.666666666666667\n"
     ]
    }
   ],
   "source": [
    "conta = 17/3\n",
    "print(conta)"
   ]
  },
  {
   "cell_type": "code",
   "execution_count": 25,
   "metadata": {},
   "outputs": [
    {
     "name": "stdout",
     "output_type": "stream",
     "text": [
      "Arredondamento: 5.67\n"
     ]
    }
   ],
   "source": [
    "print(\"Arredondamento: {:.2f}\" .format(conta))"
   ]
  },
  {
   "cell_type": "code",
   "execution_count": 27,
   "metadata": {},
   "outputs": [
    {
     "name": "stdout",
     "output_type": "stream",
     "text": [
      "Possui muitas calorias!\n"
     ]
    }
   ],
   "source": [
    "comida = \"pizza\"\n",
    "if comida == \"pizza\":\n",
    "    #TUDO DENTRO DO IF DEVE ESTAR COM A IDENTAÇÃO CORRETA\n",
    "    print(\"Possui muitas calorias!\")\n",
    "else:\n",
    "    print(\"desconheço as calorias!\")"
   ]
  },
  {
   "cell_type": "code",
   "execution_count": 28,
   "metadata": {},
   "outputs": [
    {
     "name": "stdout",
     "output_type": "stream",
     "text": [
      "desconheço as calorias!\n"
     ]
    }
   ],
   "source": [
    "comida = \"macarrão\"\n",
    "if comida == \"pizza\":\n",
    "    #TUDO DENTRO DO IF DEVE ESTAR COM A IDENTAÇÃO CORRETA\n",
    "    print(\"Possui muitas calorias!\")\n",
    "else:\n",
    "    print(\"desconheço as calorias!\")"
   ]
  },
  {
   "cell_type": "code",
   "execution_count": 30,
   "metadata": {},
   "outputs": [
    {
     "name": "stdout",
     "output_type": "stream",
     "text": [
      "desconheço as calorias!\n"
     ]
    }
   ],
   "source": [
    "comida = \"macarrão\"\n",
    "if comida == \"pizza\":\n",
    "    #TUDO DENTRO DO IF DEVE ESTAR COM A IDENTAÇÃO CORRETA\n",
    "    print(\"Possui muitas calorias!\")\n",
    "elif comida == \"abóbora\":\n",
    "    print(\"Possui muitas calorias!\")\n",
    "elif comida == \"crurrasco\":\n",
    "    print(\"Possui muitas calorias!\")\n",
    "elif comida == \"melão\":\n",
    "    print(\"Possui muitas calorias!\")\n",
    "else:\n",
    "    print(\"desconheço as calorias!\")"
   ]
  },
  {
   "cell_type": "code",
   "execution_count": 31,
   "metadata": {},
   "outputs": [
    {
     "name": "stdout",
     "output_type": "stream",
     "text": [
      "É pizza!\n"
     ]
    }
   ],
   "source": [
    "comida = \"pizza\"\n",
    "if comida != \"pizza\":\n",
    "    print(\"Não é!\")\n",
    "else:\n",
    "    print(\"É pizza!\")"
   ]
  },
  {
   "cell_type": "code",
   "execution_count": 32,
   "metadata": {},
   "outputs": [
    {
     "name": "stdout",
     "output_type": "stream",
     "text": [
      "SIM\n"
     ]
    }
   ],
   "source": [
    "num = 5\n",
    "if num > 2:\n",
    "    print(\"SIM\")\n",
    "else:\n",
    "    print(\"NÃO\")"
   ]
  },
  {
   "cell_type": "code",
   "execution_count": 1,
   "metadata": {},
   "outputs": [
    {
     "name": "stdout",
     "output_type": "stream",
     "text": [
      "Qual o ano de nascimento?1988\n",
      "Adulto\n"
     ]
    }
   ],
   "source": [
    "ano = int(input(\"Qual o ano de nascimento?\"))\n",
    "if (2020-ano)>20:\n",
    "    print(\"Adulto\")\n",
    "else:\n",
    "    print(\"não é adulto\")\n",
    "    "
   ]
  },
  {
   "cell_type": "code",
   "execution_count": 4,
   "metadata": {},
   "outputs": [
    {
     "name": "stdout",
     "output_type": "stream",
     "text": [
      "0\n",
      "1\n",
      "2\n",
      "3\n",
      "4\n",
      "a: 5\n"
     ]
    }
   ],
   "source": [
    "a = 0\n",
    "for i in range(5):\n",
    "    a = a + 1\n",
    "    print(i)\n",
    "print(\"a: {}\" .format(a))"
   ]
  },
  {
   "cell_type": "code",
   "execution_count": 5,
   "metadata": {},
   "outputs": [
    {
     "name": "stdout",
     "output_type": "stream",
     "text": [
      "M\n",
      "a\n",
      "t\n",
      "e\n",
      "m\n",
      "á\n",
      "t\n",
      "i\n",
      "c\n",
      "a\n"
     ]
    }
   ],
   "source": [
    "palavra = \"Matemática\"\n",
    "for i in palavra:\n",
    "    print(i)"
   ]
  },
  {
   "cell_type": "code",
   "execution_count": 6,
   "metadata": {},
   "outputs": [
    {
     "name": "stdout",
     "output_type": "stream",
     "text": [
      "2\n",
      "54\n",
      "8\n",
      "10\n",
      "4\n",
      "4\n"
     ]
    }
   ],
   "source": [
    "lista = [2, 54, 8, 10, 4, 4]\n",
    "for num in lista:\n",
    "    print(num)"
   ]
  },
  {
   "cell_type": "code",
   "execution_count": 9,
   "metadata": {},
   "outputs": [
    {
     "name": "stdout",
     "output_type": "stream",
     "text": [
      "Ainda não.\n",
      "Ainda não.\n",
      "Ainda não.\n",
      "Ainda não.\n",
      "Ainda não.\n",
      "Ainda não.\n",
      "Agona sim.\n"
     ]
    }
   ],
   "source": [
    "import time\n",
    "contador = 0\n",
    "while contador < 10:\n",
    "    print('Ainda não.')\n",
    "    contador = contador + 1\n",
    "    if contador == 6:\n",
    "        break\n",
    "    time.sleep(1)\n",
    "print('Agona sim.')"
   ]
  },
  {
   "cell_type": "code",
   "execution_count": 11,
   "metadata": {},
   "outputs": [
    {
     "name": "stdout",
     "output_type": "stream",
     "text": [
      "Digite um número: 20\n",
      "20! =2432902008176640000\n"
     ]
    }
   ],
   "source": [
    "numero = int(input('Digite um número: '))\n",
    "fatorial = numero\n",
    "contador = 1\n",
    "while (numero-contador)>1:\n",
    "    fatorial = fatorial*(numero-contador)\n",
    "    contador += 1\n",
    "print('{0}! = {1}' .format(numero, fatorial))"
   ]
  },
  {
   "cell_type": "code",
   "execution_count": 12,
   "metadata": {},
   "outputs": [
    {
     "data": {
      "text/plain": [
       "120"
      ]
     },
     "execution_count": 12,
     "metadata": {},
     "output_type": "execute_result"
    }
   ],
   "source": [
    "import math\n",
    "math.factorial(5)"
   ]
  },
  {
   "cell_type": "code",
   "execution_count": 15,
   "metadata": {},
   "outputs": [
    {
     "data": {
      "text/plain": [
       "datetime.date(2020, 10, 16)"
      ]
     },
     "execution_count": 15,
     "metadata": {},
     "output_type": "execute_result"
    }
   ],
   "source": [
    "import datetime\n",
    "datetime.date.today()"
   ]
  },
  {
   "cell_type": "code",
   "execution_count": 17,
   "metadata": {},
   "outputs": [
    {
     "data": {
      "text/plain": [
       "16"
      ]
     },
     "execution_count": 17,
     "metadata": {},
     "output_type": "execute_result"
    }
   ],
   "source": [
    "import datetime\n",
    "datetime.date.today().day"
   ]
  },
  {
   "cell_type": "code",
   "execution_count": 19,
   "metadata": {},
   "outputs": [
    {
     "data": {
      "text/plain": [
       "'2020-10-16'"
      ]
     },
     "execution_count": 19,
     "metadata": {},
     "output_type": "execute_result"
    }
   ],
   "source": [
    "import datetime\n",
    "datetime.date.isoformat(datetime.date.today())"
   ]
  },
  {
   "cell_type": "code",
   "execution_count": 20,
   "metadata": {},
   "outputs": [
    {
     "data": {
      "text/plain": [
       "'2020-10-16'"
      ]
     },
     "execution_count": 20,
     "metadata": {},
     "output_type": "execute_result"
    }
   ],
   "source": [
    "from datetime import date\n",
    "date.isoformat(datetime.date.today())"
   ]
  },
  {
   "cell_type": "code",
   "execution_count": 24,
   "metadata": {},
   "outputs": [],
   "source": [
    "def parabens():\n",
    "    print('Parabéns para você \\nNessa data querida')"
   ]
  },
  {
   "cell_type": "code",
   "execution_count": 25,
   "metadata": {},
   "outputs": [
    {
     "name": "stdout",
     "output_type": "stream",
     "text": [
      "Parabéns para você \n",
      "Nessa data querida\n"
     ]
    }
   ],
   "source": [
    "parabens()"
   ]
  },
  {
   "cell_type": "code",
   "execution_count": 26,
   "metadata": {},
   "outputs": [],
   "source": [
    "def temLetraU():\n",
    "    frase = input('Digite frase: ')\n",
    "    if 'u' in frase:\n",
    "        print('tem U')\n",
    "    else:\n",
    "        print('Não tem U')\n",
    "        "
   ]
  },
  {
   "cell_type": "code",
   "execution_count": 27,
   "metadata": {},
   "outputs": [
    {
     "name": "stdout",
     "output_type": "stream",
     "text": [
      "Digite frase: teste um\n",
      "tem U\n"
     ]
    }
   ],
   "source": [
    "temLetraU()"
   ]
  },
  {
   "cell_type": "code",
   "execution_count": 28,
   "metadata": {},
   "outputs": [],
   "source": [
    "def somaQuadrados(a,b):\n",
    "    somaQ = a**2 + b**2\n",
    "    return somaQ"
   ]
  },
  {
   "cell_type": "code",
   "execution_count": 29,
   "metadata": {},
   "outputs": [
    {
     "data": {
      "text/plain": [
       "13"
      ]
     },
     "execution_count": 29,
     "metadata": {},
     "output_type": "execute_result"
    }
   ],
   "source": [
    "somaQuadrados(2,3)"
   ]
  },
  {
   "cell_type": "code",
   "execution_count": null,
   "metadata": {},
   "outputs": [],
   "source": []
  }
 ],
 "metadata": {
  "kernelspec": {
   "display_name": "Python 3",
   "language": "python",
   "name": "python3"
  },
  "language_info": {
   "codemirror_mode": {
    "name": "ipython",
    "version": 3
   },
   "file_extension": ".py",
   "mimetype": "text/x-python",
   "name": "python",
   "nbconvert_exporter": "python",
   "pygments_lexer": "ipython3",
   "version": "3.8.3"
  }
 },
 "nbformat": 4,
 "nbformat_minor": 4
}
